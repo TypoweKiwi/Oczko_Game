{
 "cells": [
  {
   "cell_type": "code",
   "execution_count": null,
   "id": "ea6400c2",
   "metadata": {},
   "outputs": [],
   "source": [
    "import pandas as pd\n",
    "import random \n",
    "import matplotlib.pyplot as plt\n",
    "import seaborn as sns\n",
    "from classes import Deck\n",
    "from functions import hand_to_data_dict\n",
    "\n",
    "from sklearn.model_selection import train_test_split\n",
    "from sklearn.linear_model import LinearRegression, LogisticRegression\n",
    "from sklearn.ensemble import RandomForestClassifier\n",
    "from sklearn.metrics import accuracy_score, classification_report\n",
    "\n",
    "import joblib"
   ]
  },
  {
   "cell_type": "code",
   "execution_count": null,
   "id": "72c1fb7b",
   "metadata": {},
   "outputs": [],
   "source": [
    "def create_data_in_list(lst: list, n: int, n_cards: int):\n",
    "    if n_cards > 4 and n_cards < 1:\n",
    "        raise ValueError(\"Param n_cards should have value from 1 to 4\")\n",
    "    \n",
    "    for i in range(n):\n",
    "        deck = Deck()\n",
    "        deck.shuffle()\n",
    "        hand = []\n",
    "        for i in range(n_cards):\n",
    "            hand.append(deck.get_card())\n",
    "\n",
    "        data_dict = hand_to_data_dict(hand)\n",
    "        if data_dict[\"Total_val\"] >= 21:\n",
    "            continue\n",
    "\n",
    "        next_card = deck.get_card().get_value()\n",
    "        if next_card + data_dict[\"Total_val\"] > 21:\n",
    "            decision = 0\n",
    "        else:\n",
    "            decision = 1\n",
    "\n",
    "        data_dict[\"Decision\"] = decision\n",
    "        lst.append(data_dict)"
   ]
  },
  {
   "cell_type": "code",
   "execution_count": 2,
   "id": "acf4f77b",
   "metadata": {},
   "outputs": [
    {
     "data": {
      "text/html": [
       "<div>\n",
       "<style scoped>\n",
       "    .dataframe tbody tr th:only-of-type {\n",
       "        vertical-align: middle;\n",
       "    }\n",
       "\n",
       "    .dataframe tbody tr th {\n",
       "        vertical-align: top;\n",
       "    }\n",
       "\n",
       "    .dataframe thead th {\n",
       "        text-align: right;\n",
       "    }\n",
       "</style>\n",
       "<table border=\"1\" class=\"dataframe\">\n",
       "  <thead>\n",
       "    <tr style=\"text-align: right;\">\n",
       "      <th></th>\n",
       "      <th>Card_1</th>\n",
       "      <th>Card_2</th>\n",
       "      <th>Card_3</th>\n",
       "      <th>Card_4</th>\n",
       "      <th>Total_val</th>\n",
       "      <th>Decision</th>\n",
       "    </tr>\n",
       "  </thead>\n",
       "  <tbody>\n",
       "    <tr>\n",
       "      <th>0</th>\n",
       "      <td>8</td>\n",
       "      <td>6</td>\n",
       "      <td>4</td>\n",
       "      <td>0</td>\n",
       "      <td>18</td>\n",
       "      <td>0</td>\n",
       "    </tr>\n",
       "    <tr>\n",
       "      <th>1</th>\n",
       "      <td>3</td>\n",
       "      <td>3</td>\n",
       "      <td>5</td>\n",
       "      <td>0</td>\n",
       "      <td>11</td>\n",
       "      <td>1</td>\n",
       "    </tr>\n",
       "    <tr>\n",
       "      <th>2</th>\n",
       "      <td>6</td>\n",
       "      <td>0</td>\n",
       "      <td>0</td>\n",
       "      <td>0</td>\n",
       "      <td>6</td>\n",
       "      <td>1</td>\n",
       "    </tr>\n",
       "    <tr>\n",
       "      <th>3</th>\n",
       "      <td>10</td>\n",
       "      <td>0</td>\n",
       "      <td>0</td>\n",
       "      <td>0</td>\n",
       "      <td>10</td>\n",
       "      <td>1</td>\n",
       "    </tr>\n",
       "    <tr>\n",
       "      <th>4</th>\n",
       "      <td>8</td>\n",
       "      <td>0</td>\n",
       "      <td>0</td>\n",
       "      <td>0</td>\n",
       "      <td>8</td>\n",
       "      <td>1</td>\n",
       "    </tr>\n",
       "  </tbody>\n",
       "</table>\n",
       "</div>"
      ],
      "text/plain": [
       "   Card_1  Card_2  Card_3  Card_4  Total_val  Decision\n",
       "0       8       6       4       0         18         0\n",
       "1       3       3       5       0         11         1\n",
       "2       6       0       0       0          6         1\n",
       "3      10       0       0       0         10         1\n",
       "4       8       0       0       0          8         1"
      ]
     },
     "execution_count": 2,
     "metadata": {},
     "output_type": "execute_result"
    }
   ],
   "source": [
    "data_lst = []\n",
    "create_data_in_list(lst=data_lst, n = 500, n_cards=1)\n",
    "create_data_in_list(lst=data_lst, n = 500, n_cards=2)\n",
    "create_data_in_list(lst=data_lst, n = 500, n_cards=3)\n",
    "create_data_in_list(lst=data_lst, n = 500, n_cards=4)\n",
    "\n",
    "random.shuffle(data_lst)\n",
    "df = pd.DataFrame(data_lst)\n",
    "df.head()"
   ]
  },
  {
   "cell_type": "code",
   "execution_count": 3,
   "id": "ee7569d9",
   "metadata": {},
   "outputs": [
    {
     "name": "stderr",
     "output_type": "stream",
     "text": [
      "C:\\Users\\Wiktor\\AppData\\Local\\Temp\\ipykernel_12204\\92135304.py:1: FutureWarning: \n",
      "\n",
      "Passing `palette` without assigning `hue` is deprecated and will be removed in v0.14.0. Assign the `x` variable to `hue` and set `legend=False` for the same effect.\n",
      "\n",
      "  sns.countplot(x=df['Decision'], order=df['Decision'].value_counts().index, palette=\"viridis\")\n"
     ]
    },
    {
     "data": {
      "image/png": "[encoded data removed]",
      "text/plain": [
       "<Figure size 640x480 with 1 Axes>"
      ]
     },
     "metadata": {},
     "output_type": "display_data"
    }
   ],
   "source": [
    "sns.countplot(x=df['Decision'], order=df['Decision'].value_counts().index, palette=\"viridis\")\n",
    "plt.title(\"Distribution of decisions in data\")\n",
    "plt.xlabel(\"Decision - 1 Add, 0 Pass\")\n",
    "plt.ylabel(\"Count\")\n",
    "plt.show()"
   ]
  },
  {
   "cell_type": "code",
   "execution_count": 4,
   "id": "c6c41fd8",
   "metadata": {},
   "outputs": [
    {
     "data": {
      "image/png": "[encoded data removed]",
      "text/plain": [
       "<Figure size 640x480 with 2 Axes>"
      ]
     },
     "metadata": {},
     "output_type": "display_data"
    }
   ],
   "source": [
    "sns.heatmap(df.corr(), cmap=\"coolwarm\", annot=False)\n",
    "plt.title(\"Feature Correlation Heatmap\")\n",
    "plt.tight_layout()\n",
    "plt.show()"
   ]
  },
  {
   "cell_type": "code",
   "execution_count": 5,
   "id": "01b62643",
   "metadata": {},
   "outputs": [],
   "source": [
    "labels = df[\"Decision\"]\n",
    "features = df.drop(columns=[\"Decision\"])\n",
    "\n",
    "f_train, f_test, l_train, l_test = train_test_split(features, labels, test_size=0.2)"
   ]
  },
  {
   "cell_type": "code",
   "execution_count": 6,
   "id": "bbf46dac",
   "metadata": {},
   "outputs": [
    {
     "name": "stdout",
     "output_type": "stream",
     "text": [
      "\n",
      "Model: Logistic Regression\n",
      "Accuracy: 0.8942307692307693\n",
      "              precision    recall  f1-score   support\n",
      "\n",
      "           0       0.72      0.73      0.72        59\n",
      "           1       0.94      0.93      0.93       253\n",
      "\n",
      "    accuracy                           0.89       312\n",
      "   macro avg       0.83      0.83      0.83       312\n",
      "weighted avg       0.89      0.89      0.89       312\n",
      "\n",
      "\n",
      "Model: Linear Regression\n",
      "Accuracy: 0.8878205128205128\n",
      "              precision    recall  f1-score   support\n",
      "\n",
      "           0       0.69      0.75      0.72        59\n",
      "           1       0.94      0.92      0.93       253\n",
      "\n",
      "    accuracy                           0.89       312\n",
      "   macro avg       0.81      0.83      0.82       312\n",
      "weighted avg       0.89      0.89      0.89       312\n",
      "\n",
      "\n",
      "Model: Random Forest\n",
      "Accuracy: 0.8685897435897436\n",
      "              precision    recall  f1-score   support\n",
      "\n",
      "           0       0.64      0.71      0.67        59\n",
      "           1       0.93      0.91      0.92       253\n",
      "\n",
      "    accuracy                           0.87       312\n",
      "   macro avg       0.78      0.81      0.79       312\n",
      "weighted avg       0.88      0.87      0.87       312\n",
      "\n"
     ]
    },
    {
     "data": {
      "text/plain": [
       "['model.pkl']"
      ]
     },
     "execution_count": 6,
     "metadata": {},
     "output_type": "execute_result"
    }
   ],
   "source": [
    "models = {\n",
    "    \"Logistic Regression\": LogisticRegression(max_iter=1000),\n",
    "    \"Linear Regression\": LinearRegression(),\n",
    "    \"Random Forest\": RandomForestClassifier()\n",
    "}\n",
    "\n",
    "best_model_name = \"\"\n",
    "best_acc = 0\n",
    "for name, model in models.items():\n",
    "    model.fit(f_train, l_train)\n",
    "    pred = model.predict(f_test)\n",
    "    pred = (pred >= 0.5).astype(int)\n",
    "    accuracy = accuracy_score(l_test, pred)\n",
    "    print(f\"\\nModel: {name}\")\n",
    "    print(\"Accuracy:\", accuracy)\n",
    "    print(classification_report(l_test, pred))\n",
    "    if accuracy > best_acc:\n",
    "        models[name] = model\n",
    "        best_model_name = name\n",
    "\n",
    "model = models[best_model_name]\n",
    "joblib.dump(model, 'model.pkl')"
   ]
  }
 ],
 "metadata": {
  "kernelspec": {
   "display_name": "Python 3",
   "language": "python",
   "name": "python3"
  },
  "language_info": {
   "codemirror_mode": {
    "name": "ipython",
    "version": 3
   },
   "file_extension": ".py",
   "mimetype": "text/x-python",
   "name": "python",
   "nbconvert_exporter": "python",
   "pygments_lexer": "ipython3",
   "version": "3.10.2"
  }
 },
 "nbformat": 4,
 "nbformat_minor": 5
}
